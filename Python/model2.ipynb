{
 "cells": [
  {
   "cell_type": "code",
   "execution_count": 1,
   "id": "d9f3d2f4",
   "metadata": {},
   "outputs": [],
   "source": [
    "# Base Data Science snippet\n",
    "import pandas as pd\n",
    "import numpy as np\n",
    "import matplotlib.pyplot as plt\n",
    "import os\n",
    "import time\n",
    "from tqdm import tqdm_notebook\n",
    "from scipy.spatial.distance import cdist\n",
    "import imageio\n",
    "from matplotlib.patches import Rectangle\n",
    "from matplotlib.collections import PatchCollection\n",
    "\n",
    "plt.style.use(\"seaborn-dark\")\n",
    "\n",
    "import sys\n",
    "sys.path.append(\"../\")\n",
    "from rl.agents.q_agent import QAgent"
   ]
  },
  {
   "cell_type": "code",
   "execution_count": 2,
   "id": "74ea2af9",
   "metadata": {},
   "outputs": [],
   "source": [
    "class Environment(object):\n",
    "    \n",
    "    def __init__(self, n_stops=8,method=\"angle_difference\", **kwargs):\n",
    "        \n",
    "        print(f\"Initialized Delivery Environment with {n_stops} random stops\")\n",
    "        print(f\"Target metric for optimization is {method}\")\n",
    "              \n",
    "        #Initializaiton \n",
    "        self.n_stops = n_stops\n",
    "        self.action_space = self.n_stops\n",
    "        self.observation_space = self.n_stops\n",
    "        self.stops = []\n",
    "        self.method = method\n",
    "        \n",
    "        \n",
    "        #Generate Stops \n",
    "        self._generate_stops()\n",
    "        self._generate_q_values()\n",
    "        self.render\n",
    "        self.reset()\n",
    "        \n",
    "        \n",
    "    def _generate_stops(self):\n",
    "        \n",
    "        xy = np.loadtxt('test.csv', delimiter=\",\")\n",
    "        self.x = xy[:,0]\n",
    "        self.y = xy[:,1]\n",
    "        \n",
    "    def _generate_q_values(self):\n",
    "        xy = np.column_stack([self.x,self.y])\n",
    "        mat =  np.zeros((len(xy), len(xy)))\n",
    "        for i in range(len(xy)):\n",
    "            for j in range(len(xy)):\n",
    "                if (xy[j][1]-xy[i][1]) ==0:\n",
    "                    mat[i][j] = -100\n",
    "                elif (xy[j][1]!=0) and (xy[i][1]!=0):\n",
    "                    mat[i][j] = -100\n",
    "                else: \n",
    "                    mat[i][j] = (xy[j][0]-xy[i][0])/(xy[j][1]-xy[i][1])\n",
    "        self.q_stops = mat\n",
    "        \n",
    "    def render(self,return_img = False):\n",
    "        \n",
    "        fig = plt.figure(figsize=(7,7))\n",
    "        ax = fig.add_subplot(111)\n",
    "        ax.set_title(\"Stops\")\n",
    "\n",
    "        # Show stops\n",
    "        ax.scatter(self.x,self.y,c = \"red\",s = 50)\n",
    "\n",
    "        # Show START\n",
    "        if len(self.stops)>0:\n",
    "            xy = self._get_xy(initial = True)\n",
    "            xytext = xy[0]+0.1,xy[1]-0.05\n",
    "            ax.annotate(\"START\",xy=xy,xytext=xytext,weight = \"bold\")\n",
    "\n",
    "        # Show itinerary\n",
    "        if len(self.stops) > 1:\n",
    "            ax.plot(self.x[self.stops],self.y[self.stops],c = \"blue\",linewidth=1,linestyle=\"--\")\n",
    "            \n",
    "            # Annotate END\n",
    "            xy = self._get_xy(initial = False)\n",
    "            xytext = xy[0]+0.1,xy[1]-0.05\n",
    "            ax.annotate(\"END\",xy=xy,xytext=xytext,weight = \"bold\")\n",
    "\n",
    "        plt.xticks([])\n",
    "        plt.yticks([])\n",
    "        \n",
    "        if return_img:\n",
    "            # From https://ndres.me/post/matplotlib-animated-gifs-easily/\n",
    "            fig.canvas.draw_idle()\n",
    "            image = np.frombuffer(fig.canvas.tostring_rgb(), dtype='uint8')\n",
    "            image  = image.reshape(fig.canvas.get_width_height()[::-1] + (3,))\n",
    "            plt.close()\n",
    "            return image\n",
    "        else:\n",
    "            plt.show()\n",
    "    \n",
    "    def reset(self):\n",
    "\n",
    "        # Stops placeholder\n",
    "        self.stops = [7]\n",
    "\n",
    "        # Random first stop\n",
    "        return self.stops[-1]\n",
    "\n",
    "    def step(self,destination):\n",
    "\n",
    "        # Get current state\n",
    "        state = self._get_state()\n",
    "        new_state = destination\n",
    "\n",
    "        # Get reward for such a move\n",
    "        reward = self._get_reward(state,new_state)\n",
    "\n",
    "        # Append new_state to stops\n",
    "        self.stops.append(destination)\n",
    "        done = len(self.stops) == self.n_stops\n",
    "\n",
    "        return new_state,reward,done\n",
    "\n",
    "    def _get_state(self):\n",
    "        return self.stops[-1]\n",
    "\n",
    "\n",
    "    def _get_xy(self,initial = False):\n",
    "        state = self.stops[0] if initial else self._get_state()\n",
    "        x = self.x[state]\n",
    "        y = self.y[state]\n",
    "        return x,y\n",
    "\n",
    "\n",
    "    def _get_reward(self,state,new_state):\n",
    "        base_reward = self.q_stops[state,new_state]\n",
    "        return base_reward\n",
    "\n",
    "def run_episode(env,agent,verbose = 1):\n",
    "\n",
    "    s = env.reset()\n",
    "    agent.reset_memory()\n",
    "\n",
    "    max_step = env.n_stops\n",
    "    \n",
    "    episode_reward = 0\n",
    "    \n",
    "    i = 0\n",
    "    while i < max_step:\n",
    "\n",
    "        # Remember the states\n",
    "        agent.remember_state(s)\n",
    "\n",
    "        # Choose an action\n",
    "        a = agent.act(s)\n",
    "        \n",
    "        # Take the action, and get the reward from environment\n",
    "        s_next,r,done = env.step(a)\n",
    "\n",
    "        # Tweak the reward\n",
    "        r = r\n",
    "        \n",
    "        if verbose: print(s_next,r,done)\n",
    "        \n",
    "        # Update our knowledge in the Q-table\n",
    "        agent.train(s,a,r,s_next)\n",
    "        \n",
    "        # Update the caches\n",
    "        episode_reward += r\n",
    "        s = s_next\n",
    "        \n",
    "        # If the episode is terminated\n",
    "        i += 1\n",
    "        if done:\n",
    "            break\n",
    "            \n",
    "    return env,agent,episode_reward\n",
    "\n",
    "\n",
    "\n",
    "class DeliveryQAgent(QAgent):\n",
    "\n",
    "    def __init__(self,*args,**kwargs):\n",
    "        super().__init__(*args,**kwargs)\n",
    "        self.reset_memory()\n",
    "\n",
    "    def act(self,s):\n",
    "\n",
    "        # Get Q Vector\n",
    "        q = np.copy(self.Q[s,:])\n",
    "\n",
    "        # Avoid already visited states\n",
    "        q[self.states_memory] = -np.inf\n",
    "\n",
    "        if np.random.rand() > self.epsilon:\n",
    "            a = np.argmax(q)\n",
    "        else:\n",
    "            a = np.random.choice([x for x in range(self.actions_size) if x not in self.states_memory])\n",
    "\n",
    "        return a\n",
    "\n",
    "\n",
    "    def remember_state(self,s):\n",
    "        self.states_memory.append(s)\n",
    "\n",
    "    def reset_memory(self):\n",
    "        self.states_memory = []\n",
    "\n",
    "\n",
    "\n",
    "def run_n_episodes(env,agent,name=\"training.gif\",n_episodes=1000,render_each=10,fps=10):\n",
    "\n",
    "    # Store the rewards\n",
    "    rewards = []\n",
    "    imgs = []\n",
    "    imgs2 = []\n",
    "\n",
    "    # Experience replay\n",
    "    for i in tqdm_notebook(range(n_episodes)):\n",
    "\n",
    "        # Run the episode\n",
    "        env,agent,episode_reward = run_episode(env,agent,verbose = 0)\n",
    "        rewards.append(episode_reward)\n",
    "            \n",
    "        if i % render_each == 0:\n",
    "            img = env.render(return_img = True)\n",
    "            imgs.append(img)\n",
    "\n",
    "    \n",
    "    \n",
    "    \n",
    "    # Show rewards\n",
    "    plt.figure(figsize = (15,3))\n",
    "    plt.title(\"Rewards over training\")\n",
    "    plt.plot(rewards)\n",
    "    plt.show()\n",
    "\n",
    "    # Save imgs as gif\n",
    "    imageio.mimsave(name,imgs,fps = fps)\n",
    "\n",
    "    return env,agent"
   ]
  },
  {
   "cell_type": "code",
   "execution_count": 3,
   "id": "985340f6",
   "metadata": {},
   "outputs": [
    {
     "name": "stdout",
     "output_type": "stream",
     "text": [
      "Initialized Delivery Environment with 8 random stops\n",
      "Target metric for optimization is angle_difference\n",
      "[[-100.           -0.16217942 -100.            0.35010987 -100.\n",
      "     1.84342456 -100.            1.        ]\n",
      " [  -0.16217942 -100.            0.16217942 -100.           -1.18397078\n",
      "  -100.           -2.84082079 -100.        ]\n",
      " [-100.            0.16217942 -100.            0.74029957 -100.\n",
      "     2.42551009 -100.            1.47370271]\n",
      " [   0.35010987 -100.            0.74029957 -100.           -0.74029957\n",
      "  -100.           -2.25644377 -100.        ]\n",
      " [-100.           -1.18397078 -100.           -0.74029957 -100.\n",
      "     0.55299456 -100.           -0.17745833]\n",
      " [   1.84342456 -100.            2.42551009 -100.            0.55299456\n",
      "  -100.           -0.55299456 -100.        ]\n",
      " [-100.           -2.84082079 -100.           -2.25644377 -100.\n",
      "    -0.55299456 -100.           -1.51510316]\n",
      " [   1.         -100.            1.47370271 -100.           -0.17745833\n",
      "  -100.           -1.51510316 -100.        ]]\n"
     ]
    }
   ],
   "source": [
    "env = Environment()\n",
    "print(env.q_stops)"
   ]
  },
  {
   "cell_type": "code",
   "execution_count": 4,
   "id": "a869992a",
   "metadata": {},
   "outputs": [
    {
     "data": {
      "image/png": "[encoded data removed]",
      "text/plain": [
       "<Figure size 504x504 with 1 Axes>"
      ]
     },
     "metadata": {},
     "output_type": "display_data"
    }
   ],
   "source": [
    "env.render()"
   ]
  },
  {
   "cell_type": "code",
   "execution_count": 5,
   "id": "f4409231",
   "metadata": {},
   "outputs": [
    {
     "data": {
      "text/plain": [
       "[7]"
      ]
     },
     "execution_count": 5,
     "metadata": {},
     "output_type": "execute_result"
    }
   ],
   "source": [
    "env.stops"
   ]
  },
  {
   "cell_type": "code",
   "execution_count": 6,
   "id": "7951c9a1",
   "metadata": {},
   "outputs": [],
   "source": [
    "for i in [7,2]:\n",
    "    env.step(i)"
   ]
  },
  {
   "cell_type": "code",
   "execution_count": 7,
   "id": "23d56154",
   "metadata": {},
   "outputs": [
    {
     "data": {
      "image/png": "[encoded data removed]",
      "text/plain": [
       "<Figure size 504x504 with 1 Axes>"
      ]
     },
     "metadata": {},
     "output_type": "display_data"
    }
   ],
   "source": [
    "env.reset()\n",
    "env.render()"
   ]
  },
  {
   "cell_type": "code",
   "execution_count": 8,
   "id": "cd31eb6b",
   "metadata": {},
   "outputs": [
    {
     "data": {
      "image/png": "[encoded data removed]",
      "text/plain": [
       "<Figure size 504x504 with 1 Axes>"
      ]
     },
     "metadata": {},
     "output_type": "display_data"
    }
   ],
   "source": [
    "env.render()"
   ]
  },
  {
   "cell_type": "code",
   "execution_count": 9,
   "id": "fe731727",
   "metadata": {},
   "outputs": [
    {
     "name": "stdout",
     "output_type": "stream",
     "text": [
      "Initialized Delivery Environment with 8 random stops\n",
      "Target metric for optimization is angle_difference\n"
     ]
    }
   ],
   "source": [
    "env = Environment(n_stops = 8,method = \"angle_difference\" )"
   ]
  },
  {
   "cell_type": "code",
   "execution_count": 10,
   "id": "b8f8af3c",
   "metadata": {},
   "outputs": [],
   "source": [
    "agent = DeliveryQAgent(env.observation_space,env.action_space)"
   ]
  },
  {
   "cell_type": "code",
   "execution_count": 11,
   "id": "7af6ad2d",
   "metadata": {},
   "outputs": [
    {
     "name": "stderr",
     "output_type": "stream",
     "text": [
      "C:\\Users\\PC\\AppData\\Local\\Temp/ipykernel_3256/2086886180.py:197: TqdmDeprecationWarning: This function will be removed in tqdm==5.0.0\n",
      "Please use `tqdm.notebook.tqdm` instead of `tqdm.tqdm_notebook`\n",
      "  for i in tqdm_notebook(range(n_episodes)):\n"
     ]
    },
    {
     "data": {
      "application/vnd.jupyter.widget-view+json": {
       "model_id": "2c41a8a6744c43b8b53dfed3720d2c17",
       "version_major": 2,
       "version_minor": 0
      },
      "text/plain": [
       "  0%|          | 0/1000 [00:00<?, ?it/s]"
      ]
     },
     "metadata": {},
     "output_type": "display_data"
    },
    {
     "data": {
      "image/png": "[encoded data removed]",
      "text/plain": [
       "<Figure size 1080x216 with 1 Axes>"
      ]
     },
     "metadata": {},
     "output_type": "display_data"
    },
    {
     "data": {
      "text/plain": [
       "(<__main__.Environment at 0x1cbab787940>,\n",
       " <__main__.DeliveryQAgent at 0x1cba9fb3760>)"
      ]
     },
     "execution_count": 11,
     "metadata": {},
     "output_type": "execute_result"
    }
   ],
   "source": [
    "run_n_episodes(env,agent,\"training_8_pts.gif\")"
   ]
  },
  {
   "cell_type": "code",
   "execution_count": 12,
   "id": "7786d1a3",
   "metadata": {},
   "outputs": [
    {
     "data": {
      "image/png": "[encoded data removed]",
      "text/plain": [
       "<Figure size 504x504 with 1 Axes>"
      ]
     },
     "metadata": {},
     "output_type": "display_data"
    }
   ],
   "source": [
    "env.render()"
   ]
  },
  {
   "cell_type": "code",
   "execution_count": null,
   "id": "ee3b8ba7",
   "metadata": {},
   "outputs": [],
   "source": []
  },
  {
   "cell_type": "code",
   "execution_count": null,
   "id": "7b577c60",
   "metadata": {},
   "outputs": [],
   "source": []
  }
 ],
 "metadata": {
  "kernelspec": {
   "display_name": "Python 3 (ipykernel)",
   "language": "python",
   "name": "python3"
  },
  "language_info": {
   "codemirror_mode": {
    "name": "ipython",
    "version": 3
   },
   "file_extension": ".py",
   "mimetype": "text/x-python",
   "name": "python",
   "nbconvert_exporter": "python",
   "pygments_lexer": "ipython3",
   "version": "3.9.7"
  }
 },
 "nbformat": 4,
 "nbformat_minor": 5
}
