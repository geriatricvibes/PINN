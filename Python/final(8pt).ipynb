{
 "cells": [
  {
   "cell_type": "code",
   "execution_count": 1,
   "id": "83b33a01",
   "metadata": {},
   "outputs": [],
   "source": [
    "# Base Data Science snippet\n",
    "import pandas as pd\n",
    "import numpy as np\n",
    "import matplotlib.pyplot as plt\n",
    "import os\n",
    "import time\n",
    "from tqdm import tqdm_notebook\n",
    "from scipy.spatial.distance import cdist\n",
    "import imageio\n",
    "from matplotlib.patches import Rectangle\n",
    "from matplotlib.collections import PatchCollection\n",
    "\n",
    "plt.style.use(\"seaborn-dark\")\n",
    "\n",
    "#RL Library \n",
    "import sys\n",
    "sys.path.append(\"../\")\n",
    "from rl.agents.q_agent import QAgent"
   ]
  },
  {
   "cell_type": "code",
   "execution_count": 2,
   "id": "2bd8d1e7",
   "metadata": {},
   "outputs": [
    {
     "name": "stdout",
     "output_type": "stream",
     "text": [
      "xaxis array = \n",
      " [[ 6.00383107  0.        ]\n",
      " [ 3.35733921  0.        ]\n",
      " [-4.35714012  0.        ]\n",
      " [ 0.          0.        ]]\n",
      "curve array = \n",
      " [[ 8.16601049  8.16601049]\n",
      " [ 9.74624857  7.57775407]\n",
      " [ 1.94146383  8.96498441]\n",
      " [-6.86150897  4.52874046]]\n"
     ]
    }
   ],
   "source": [
    "xy = np.loadtxt('test.csv', delimiter=\",\")\n",
    "\n",
    "#Separate x axis and curve pts \n",
    "def ptseparator(array):\n",
    "    xaxis = list(list())\n",
    "    curve = list(list())\n",
    "    for i in array:\n",
    "        if i[1]==0:\n",
    "            xaxis.append(i)\n",
    "        else:\n",
    "            curve.append(i)\n",
    "    return xaxis, curve  \n",
    "\n",
    "xaxis, curve = np.array(ptseparator(xy))\n",
    "for i in range(3):\n",
    "    curve[i] += 3\n",
    "print(\"xaxis array = \\n\", xaxis)\n",
    "print(\"curve array = \\n\", curve)"
   ]
  },
  {
   "cell_type": "code",
   "execution_count": 3,
   "id": "2187da75",
   "metadata": {},
   "outputs": [],
   "source": [
    "class Environment(object):\n",
    "    \n",
    "    def __init__(self, curve, xaxis,method=\"angle_difference\", **kwargs):\n",
    "        \n",
    "        print(f\"Initialized Delivery Environment with {len(curve)+len(xaxis)} random stops\")\n",
    "        print(f\"Target metric for optimization is {method}\")\n",
    "              \n",
    "        #Initializaiton \n",
    "        self.n_stops = len(curve)\n",
    "        self.curve = curve\n",
    "        self.xaxis= xaxis\n",
    "        self.action_space = self.n_stops\n",
    "        self.observation_space = self.n_stops\n",
    "        self.stops = [0]\n",
    "        self.method = method\n",
    "        \n",
    "        #Generate Stops \n",
    "        self._generate_stops()\n",
    "        self._generate_q_values()\n",
    "        self.render()\n",
    "     \n",
    "    def _generate_stops(self):\n",
    "        self.xc = curve[:,0]\n",
    "        self.yc = curve[:,1]\n",
    "        self.xp = xaxis[:,0]\n",
    "        self.yp = xaxis[:,1]\n",
    "        \n",
    "    def _generate_q_values(self):\n",
    "        curve = np.array(self.curve)\n",
    "        xaxis = np.array(self.xaxis)\n",
    "        mat = np.zeros((len(curve), len(curve), len(xaxis)))\n",
    "\n",
    "        for z in range(len(xaxis)):\n",
    "            slope1 = (curve[:, 0] - xaxis[z][0]) / curve[:, 1]\n",
    "            slope2 = (curve[:, 0] - xaxis[z][0]) / curve[:, 1]\n",
    "            diff = -np.abs(slope1[:, None] + slope2)\n",
    "            mat[:, :, z] = diff\n",
    "\n",
    "        self.q_stops = mat\n",
    "    \n",
    "    def render(self, return_img = False):\n",
    "        fig = plt.figure(figsize=(7, 7))\n",
    "        ax = fig.add_subplot(111)\n",
    "        ax.set_title(\"Paths\")\n",
    "\n",
    "        # Show stops\n",
    "        ax.scatter(self.xc, self.yc, c=\"red\", s=50)\n",
    "        ax.scatter(self.xp, self.yp, c=\"blue\", s=50)\n",
    "        \n",
    "        #Show Start\n",
    "        xy = [0.,0.]\n",
    "        xytext = xy[0] +0.1, xy[1]-0.05\n",
    "        ax.annotate(\"START\",xy=xy,xytext=xytext,weight = \"bold\")\n",
    "        \n",
    "        #Show Itinerary\n",
    "        if len(self.stops)>1:\n",
    "            self.xarr = [self.xp[3]]\n",
    "            self.yarr = [self.yp[3]]\n",
    "            \n",
    "            for i in range(len(self.stops)):\n",
    "                if i % 2 ==0:\n",
    "                    self.xarr.append(self.xc[self.stops[i]])\n",
    "                    self.yarr.append(self.yc[self.stops[i]])\n",
    "                else:\n",
    "                    self.xarr.append(self.xp[self.stops[i]])\n",
    "                    self.yarr.append(self.yp[self.stops[i]])\n",
    "           \n",
    "            ax.plot(self.xarr,self.yarr,c = \"blue\",linewidth=1,linestyle=\"--\")\n",
    "        \n",
    "            # Annotate END\n",
    "            xy = self._get_xy(initial = False)\n",
    "            xytext = xy[0]+0.1,xy[1]-0.05\n",
    "            ax.annotate(\"END\",xy=xy,xytext=xytext,weight = \"bold\")\n",
    "        \n",
    "        plt.xticks([])\n",
    "        plt.yticks([])\n",
    "        \n",
    "        if return_img:\n",
    "            # From https://ndres.me/post/matplotlib-animated-gifs-easily/\n",
    "            fig.canvas.draw_idle()\n",
    "            image = np.frombuffer(fig.canvas.tostring_rgb(), dtype='uint8')\n",
    "            image  = image.reshape(fig.canvas.get_width_height()[::-1] + (3,))\n",
    "            plt.close()\n",
    "            return image\n",
    "        else:\n",
    "            plt.show()\n",
    "       \n",
    "        \n",
    "    def reset(self):\n",
    "        self.stops = [0]\n",
    "        return self.stops[-1]\n",
    "    \n",
    "    def _get_state(self):\n",
    "        return self.stops[-1]\n",
    "        \n",
    "    def _get_xy(self, initial=False):\n",
    "        state = self.stops[0] if initial else self._get_state()\n",
    "        x = self.xc[state]\n",
    "        y = self.yc[state]\n",
    "        return x, y\n",
    "    \n",
    "    def _get_reward(self, state, new_state, x):\n",
    "        base_reward = self.q_stops[state,new_state,x]\n",
    "        return base_reward\n",
    "    \n",
    "    def step(self,destination,x):\n",
    "\n",
    "        # Get current state\n",
    "        state = self._get_state()\n",
    "        new_state = destination\n",
    "        x = x\n",
    "        \n",
    "        # Get reward for such a move\n",
    "        reward = self._get_reward(state,new_state,x)\n",
    "\n",
    "        # Append new_state to stops\n",
    "        self.stops.extend([x,destination])\n",
    "        done = len(self.stops) == self.n_stops\n",
    "\n",
    "        return new_state,reward,done,x"
   ]
  },
  {
   "cell_type": "code",
   "execution_count": 4,
   "id": "1dcd5f01",
   "metadata": {},
   "outputs": [
    {
     "name": "stdout",
     "output_type": "stream",
     "text": [
      "Initialized Delivery Environment with 8 random stops\n",
      "Target metric for optimization is angle_difference\n"
     ]
    },
    {
     "data": {
      "image/png": "[encoded data removed]",
      "text/plain": [
       "<Figure size 504x504 with 1 Axes>"
      ]
     },
     "metadata": {},
     "output_type": "display_data"
    },
    {
     "name": "stdout",
     "output_type": "stream",
     "text": [
      "[[[-0.53  -1.178 -3.067 -2.   ]\n",
      "  [-0.759 -1.432 -3.395 -2.286]\n",
      "  [-0.188 -0.431 -2.236 -1.217]\n",
      "  [-2.576 -1.668 -0.981 -0.515]]\n",
      "\n",
      " [[-0.759 -1.432 -3.395 -2.286]\n",
      "  [-0.988 -1.686 -3.722 -2.572]\n",
      "  [-0.041 -0.685 -2.564 -1.503]\n",
      "  [-2.347 -1.413 -1.308 -0.229]]\n",
      "\n",
      " [[-0.188 -0.431 -2.236 -1.217]\n",
      "  [-0.041 -0.685 -2.564 -1.503]\n",
      "  [-0.906 -0.316 -1.405 -0.433]\n",
      "  [-3.294 -2.414 -0.15  -1.299]]\n",
      "\n",
      " [[-2.576 -1.668 -0.981 -0.515]\n",
      "  [-2.347 -1.413 -1.308 -0.229]\n",
      "  [-3.294 -2.414 -0.15  -1.299]\n",
      "  [-5.682 -4.513 -1.106 -3.03 ]]]\n",
      "\n",
      "Ideal Reward =  -1.5934105764555107\n"
     ]
    },
    {
     "data": {
      "image/png": "[encoded data removed]",
      "text/plain": [
       "<Figure size 504x504 with 1 Axes>"
      ]
     },
     "metadata": {},
     "output_type": "display_data"
    },
    {
     "data": {
      "text/plain": [
       "([0.0,\n",
       "  8.166010488516726,\n",
       "  6.003831069285709,\n",
       "  9.746248565974316,\n",
       "  3.357339206799729,\n",
       "  1.941463826818571,\n",
       "  -4.357140119563605,\n",
       "  -6.861508969064321],\n",
       " [0.0,\n",
       "  8.166010488516724,\n",
       "  0.0,\n",
       "  7.577754071440296,\n",
       "  0.0,\n",
       "  8.964984411564576,\n",
       "  0.0,\n",
       "  4.528740458357809])"
      ]
     },
     "execution_count": 4,
     "metadata": {},
     "output_type": "execute_result"
    }
   ],
   "source": [
    "env = Environment(curve, xaxis)\n",
    "np.set_printoptions(precision=3)\n",
    "env.reset()\n",
    "print(env.q_stops)\n",
    "_,r1,_,_ = env.step(1,0)\n",
    "_, r2,_,_= env.step(2,1)\n",
    "_, r3, _,_ = env.step(3,2)\n",
    "idealreward = r1+r2+r3\n",
    "print(\"\\nIdeal Reward = \", idealreward)\n",
    "env.render()\n",
    "env.xarr, env.yarr"
   ]
  },
  {
   "cell_type": "code",
   "execution_count": 5,
   "id": "0ce29328",
   "metadata": {},
   "outputs": [],
   "source": [
    "class DeliveryQAgent(QAgent):\n",
    "\n",
    "    def __init__(self,*args,**kwargs):\n",
    "        super().__init__(*args,**kwargs)\n",
    "        self.reset_memory()\n",
    "    \n",
    "    def remember_state2(self, x):\n",
    "        self.states_memory2.append(x)\n",
    "        \n",
    "    def act(self, s):\n",
    "        # Get Q Vector for the corresponding state in q_stops\n",
    "        q = np.copy(self.Q[s, :, :])\n",
    "\n",
    "        # Avoid already visited states\n",
    "        q[self.states_memory,:] = -np.inf\n",
    "        q[:,self.states_memory2] = -np.inf\n",
    "        \n",
    "        # Find the indices of the maximum Q-value in the 2D array\n",
    "        if np.random.rand() > self.epsilon:\n",
    "            a, self.x = np.unravel_index(np.argmax(q), q.shape)\n",
    "            self.remember_state2(self.x)\n",
    "        else:\n",
    "            # Find valid actions that have not been visited yet\n",
    "            valid_actions = [(a, self.x) for a, self.x in np.ndindex(q.shape) if a not in self.states_memory and self.x not in self.states_memory2]\n",
    "            a, self.x = valid_actions[np.random.choice(len(valid_actions))]\n",
    "            self.remember_state2(self.x)\n",
    "        \n",
    "        return a, self.x\n",
    "        \n",
    "    def remember_state(self,s):\n",
    "        self.states_memory.append(s)\n",
    "    \n",
    "    def reset_memory(self):\n",
    "        self.states_memory = []\n",
    "        self.states_memory2 = [3]"
   ]
  },
  {
   "cell_type": "code",
   "execution_count": 6,
   "id": "7d189d77",
   "metadata": {},
   "outputs": [],
   "source": [
    "def run_episode(env, agent, verbose=1):\n",
    "    s = env.reset()\n",
    "    agent.reset_memory()\n",
    "    max_step = env.n_stops\n",
    "    episode_reward = 0.\n",
    "\n",
    "    i = 0\n",
    "    while i < max_step-1:\n",
    "        # Remember the states\n",
    "        agent.remember_state(s)\n",
    "\n",
    "        # Choose an action\n",
    "        a, x= agent.act(s)\n",
    "        \n",
    "        # Take the action, and get the reward from environment\n",
    "        s_next, r, done,x = env.step(a, x)\n",
    "\n",
    "        # Tweak the reward\n",
    "        r = r\n",
    "\n",
    "        if verbose:\n",
    "            print(s_next, r, done)\n",
    "\n",
    "        # Update our knowledge in the Q-table\n",
    "        agent.train(s, a, x, r, s_next,x)\n",
    "\n",
    "        # Update the caches\n",
    "        episode_reward += r\n",
    "        s = s_next\n",
    "\n",
    "        # If the episode is terminated\n",
    "        i += 1\n",
    "        if done:\n",
    "            break\n",
    "\n",
    "    return env, agent, episode_reward"
   ]
  },
  {
   "cell_type": "code",
   "execution_count": 16,
   "id": "37d77f10",
   "metadata": {},
   "outputs": [
    {
     "name": "stdout",
     "output_type": "stream",
     "text": [
      "1 -0.7586468946556504 False\n",
      "2 -0.685179895566925 False\n",
      "3 -0.14958378623293522 False\n"
     ]
    },
    {
     "data": {
      "image/png": "[encoded data removed]",
      "text/plain": [
       "<Figure size 504x504 with 1 Axes>"
      ]
     },
     "metadata": {},
     "output_type": "display_data"
    },
    {
     "data": {
      "text/plain": [
       "[0, 0, 1, 1, 2, 2, 3]"
      ]
     },
     "execution_count": 16,
     "metadata": {},
     "output_type": "execute_result"
    }
   ],
   "source": [
    "agent = DeliveryQAgent(env.observation_space,env.action_space)\n",
    "run_episode(env,agent)\n",
    "env.render()\n",
    "env.stops"
   ]
  },
  {
   "cell_type": "code",
   "execution_count": 8,
   "id": "727bcfeb",
   "metadata": {},
   "outputs": [],
   "source": [
    "def run_n_episodes(env,agent,name=\"training.mp4\",n_episodes=1000,render_each=1,fps=100):\n",
    "\n",
    "    # Store the rewards\n",
    "    rewards = []\n",
    "    imgs = []\n",
    "\n",
    "    # Experience replay\n",
    "    for i in tqdm_notebook(range(n_episodes)):\n",
    "\n",
    "        # Run the episode\n",
    "        env,agent,episode_reward = run_episode(env,agent,verbose = 0)\n",
    "        rewards.append(episode_reward)\n",
    "            \n",
    "        if i % render_each == 0:\n",
    "            img = env.render(return_img = True)\n",
    "            imgs.append(img)\n",
    "\n",
    "\n",
    "    # Show rewards\n",
    "    plt.figure(figsize = (15,3))\n",
    "    plt.title(\"Rewards over training\")\n",
    "    plt.plot(rewards)\n",
    "    plt.show()\n",
    "\n",
    "    with imageio.get_writer(name, fps=fps) as writer:\n",
    "        for img in imgs:\n",
    "            writer.append_data(img)\n",
    "\n",
    "    return env,agent,rewards"
   ]
  },
  {
   "cell_type": "code",
   "execution_count": 9,
   "id": "e60c8630",
   "metadata": {},
   "outputs": [
    {
     "name": "stderr",
     "output_type": "stream",
     "text": [
      "C:\\Users\\PC\\AppData\\Local\\Temp/ipykernel_21460/1247348911.py:8: TqdmDeprecationWarning: This function will be removed in tqdm==5.0.0\n",
      "Please use `tqdm.notebook.tqdm` instead of `tqdm.tqdm_notebook`\n",
      "  for i in tqdm_notebook(range(n_episodes)):\n"
     ]
    },
    {
     "data": {
      "application/vnd.jupyter.widget-view+json": {
       "model_id": "bd61040127624afa98cd6357e30d7f6b",
       "version_major": 2,
       "version_minor": 0
      },
      "text/plain": [
       "  0%|          | 0/1000 [00:00<?, ?it/s]"
      ]
     },
     "metadata": {},
     "output_type": "display_data"
    },
    {
     "data": {
      "image/png": "[encoded data removed]",
      "text/plain": [
       "<Figure size 1080x216 with 1 Axes>"
      ]
     },
     "metadata": {},
     "output_type": "display_data"
    },
    {
     "name": "stderr",
     "output_type": "stream",
     "text": [
      "IMAGEIO FFMPEG_WRITER WARNING: input image is not divisible by macro_block_size=16, resizing from (504, 504) to (512, 512) to ensure video compatibility with most codecs and players. To prevent resizing, make your input image divisible by the macro_block_size or set the macro_block_size to 1 (risking incompatibility).\n"
     ]
    }
   ],
   "source": [
    "a,b,c = run_n_episodes(env,agent,\"training8.mp4\")"
   ]
  },
  {
   "cell_type": "code",
   "execution_count": 19,
   "id": "51761194",
   "metadata": {},
   "outputs": [
    {
     "data": {
      "text/html": [
       "<video src=\"training8.mp4\" controls  >\n",
       "      Your browser does not support the <code>video</code> element.\n",
       "    </video>"
      ],
      "text/plain": [
       "<IPython.core.display.Video object>"
      ]
     },
     "execution_count": 19,
     "metadata": {},
     "output_type": "execute_result"
    }
   ],
   "source": [
    "from IPython.display import Video\n",
    "Video(\"training8.mp4\")"
   ]
  },
  {
   "cell_type": "code",
   "execution_count": 11,
   "id": "40bae75d",
   "metadata": {},
   "outputs": [
    {
     "name": "stdout",
     "output_type": "stream",
     "text": [
      "Accuracy 0 %\n"
     ]
    }
   ],
   "source": [
    "count = 0\n",
    "for i in c[-100:]:\n",
    "    if i == idealreward:\n",
    "        count += 1\n",
    "print(\"Accuracy\", count, \"%\")"
   ]
  },
  {
   "cell_type": "code",
   "execution_count": 14,
   "id": "21f41e17",
   "metadata": {},
   "outputs": [
    {
     "data": {
      "image/png": "[encoded data removed]",
      "text/plain": [
       "<Figure size 504x504 with 1 Axes>"
      ]
     },
     "metadata": {},
     "output_type": "display_data"
    }
   ],
   "source": [
    "env.render()"
   ]
  },
  {
   "cell_type": "code",
   "execution_count": 13,
   "id": "b61e682d",
   "metadata": {},
   "outputs": [
    {
     "name": "stdout",
     "output_type": "stream",
     "text": [
      "Initialized Delivery Environment with 8 random stops\n",
      "Target metric for optimization is angle_difference\n"
     ]
    },
    {
     "data": {
      "image/png": "[encoded data removed]",
      "text/plain": [
       "<Figure size 504x504 with 1 Axes>"
      ]
     },
     "metadata": {},
     "output_type": "display_data"
    },
    {
     "name": "stdout",
     "output_type": "stream",
     "text": [
      "Training with hyperparameters: {'epsilon': 0.2, 'epsilon_decay': 0.8, 'gamma': 0.7, 'lr': 0.1}\n"
     ]
    },
    {
     "ename": "TypeError",
     "evalue": "__init__() got multiple values for argument 'states_size'",
     "output_type": "error",
     "traceback": [
      "\u001b[1;31m---------------------------------------------------------------------------\u001b[0m",
      "\u001b[1;31mTypeError\u001b[0m                                 Traceback (most recent call last)",
      "\u001b[1;32m~\\AppData\\Local\\Temp/ipykernel_21460/2215859052.py\u001b[0m in \u001b[0;36m<module>\u001b[1;34m\u001b[0m\n\u001b[0;32m     48\u001b[0m \u001b[1;33m\u001b[0m\u001b[0m\n\u001b[0;32m     49\u001b[0m     \u001b[1;31m# Perform grid search hyperparameter tuning\u001b[0m\u001b[1;33m\u001b[0m\u001b[1;33m\u001b[0m\u001b[0m\n\u001b[1;32m---> 50\u001b[1;33m     \u001b[0mbest_hyperparameters\u001b[0m\u001b[1;33m,\u001b[0m \u001b[0mrewards_by_hyperparameters\u001b[0m \u001b[1;33m=\u001b[0m \u001b[0mgrid_search_hyperparameters\u001b[0m\u001b[1;33m(\u001b[0m\u001b[0menv\u001b[0m\u001b[1;33m,\u001b[0m \u001b[0mhyperparameter_grid\u001b[0m\u001b[1;33m)\u001b[0m\u001b[1;33m\u001b[0m\u001b[1;33m\u001b[0m\u001b[0m\n\u001b[0m\u001b[0;32m     51\u001b[0m \u001b[1;33m\u001b[0m\u001b[0m\n\u001b[0;32m     52\u001b[0m     \u001b[1;31m# Train the final agent with the best hyperparameters\u001b[0m\u001b[1;33m\u001b[0m\u001b[1;33m\u001b[0m\u001b[0m\n",
      "\u001b[1;32m~\\AppData\\Local\\Temp/ipykernel_21460/2215859052.py\u001b[0m in \u001b[0;36mgrid_search_hyperparameters\u001b[1;34m(env, hyperparameter_grid, n_episodes, render_each, fps)\u001b[0m\n\u001b[0;32m      9\u001b[0m \u001b[1;33m\u001b[0m\u001b[0m\n\u001b[0;32m     10\u001b[0m         \u001b[1;31m# Create the agent with the current set of hyperparameters\u001b[0m\u001b[1;33m\u001b[0m\u001b[1;33m\u001b[0m\u001b[0m\n\u001b[1;32m---> 11\u001b[1;33m         agent = DeliveryQAgent(env,states_size=env.observation_space, actions_size=env.action_space, \n\u001b[0m\u001b[0;32m     12\u001b[0m                                \u001b[0mepsilon\u001b[0m\u001b[1;33m=\u001b[0m\u001b[0mhyperparameters\u001b[0m\u001b[1;33m[\u001b[0m\u001b[1;34m'epsilon'\u001b[0m\u001b[1;33m]\u001b[0m\u001b[1;33m,\u001b[0m\u001b[1;33m\u001b[0m\u001b[1;33m\u001b[0m\u001b[0m\n\u001b[0;32m     13\u001b[0m                                \u001b[0mepsilon_decay\u001b[0m\u001b[1;33m=\u001b[0m\u001b[0mhyperparameters\u001b[0m\u001b[1;33m[\u001b[0m\u001b[1;34m'epsilon_decay'\u001b[0m\u001b[1;33m]\u001b[0m\u001b[1;33m,\u001b[0m\u001b[1;33m\u001b[0m\u001b[1;33m\u001b[0m\u001b[0m\n",
      "\u001b[1;32m~\\AppData\\Local\\Temp/ipykernel_21460/44822608.py\u001b[0m in \u001b[0;36m__init__\u001b[1;34m(self, *args, **kwargs)\u001b[0m\n\u001b[0;32m      2\u001b[0m \u001b[1;33m\u001b[0m\u001b[0m\n\u001b[0;32m      3\u001b[0m     \u001b[1;32mdef\u001b[0m \u001b[0m__init__\u001b[0m\u001b[1;33m(\u001b[0m\u001b[0mself\u001b[0m\u001b[1;33m,\u001b[0m\u001b[1;33m*\u001b[0m\u001b[0margs\u001b[0m\u001b[1;33m,\u001b[0m\u001b[1;33m**\u001b[0m\u001b[0mkwargs\u001b[0m\u001b[1;33m)\u001b[0m\u001b[1;33m:\u001b[0m\u001b[1;33m\u001b[0m\u001b[1;33m\u001b[0m\u001b[0m\n\u001b[1;32m----> 4\u001b[1;33m         \u001b[0msuper\u001b[0m\u001b[1;33m(\u001b[0m\u001b[1;33m)\u001b[0m\u001b[1;33m.\u001b[0m\u001b[0m__init__\u001b[0m\u001b[1;33m(\u001b[0m\u001b[1;33m*\u001b[0m\u001b[0margs\u001b[0m\u001b[1;33m,\u001b[0m\u001b[1;33m**\u001b[0m\u001b[0mkwargs\u001b[0m\u001b[1;33m)\u001b[0m\u001b[1;33m\u001b[0m\u001b[1;33m\u001b[0m\u001b[0m\n\u001b[0m\u001b[0;32m      5\u001b[0m         \u001b[0mself\u001b[0m\u001b[1;33m.\u001b[0m\u001b[0mreset_memory\u001b[0m\u001b[1;33m(\u001b[0m\u001b[1;33m)\u001b[0m\u001b[1;33m\u001b[0m\u001b[1;33m\u001b[0m\u001b[0m\n\u001b[0;32m      6\u001b[0m \u001b[1;33m\u001b[0m\u001b[0m\n",
      "\u001b[1;31mTypeError\u001b[0m: __init__() got multiple values for argument 'states_size'"
     ]
    }
   ],
   "source": [
    "def grid_search_hyperparameters(env, hyperparameter_grid, n_episodes=1000, render_each=10, fps=10):\n",
    "    best_hyperparameters = None\n",
    "    best_mean_reward = float(\"-inf\")\n",
    "    rewards_by_hyperparameters = {}\n",
    "\n",
    "    # Loop through all possible combinations of hyperparameters\n",
    "    for hyperparameters in hyperparameter_grid:\n",
    "        print(f\"Training with hyperparameters: {hyperparameters}\")\n",
    "\n",
    "        # Create the agent with the current set of hyperparameters\n",
    "        agent = DeliveryQAgent(env,states_size=env.observation_space, actions_size=env.action_space, \n",
    "                               epsilon=hyperparameters['epsilon'],\n",
    "                               epsilon_decay=hyperparameters['epsilon_decay'],\n",
    "                               gamma=hyperparameters['gamma'],\n",
    "                               lr=hyperparameters['lr'])\n",
    "\n",
    "        # Train the agent and get rewards\n",
    "        _, _, rewards = run_n_episodes(env, agent, n_episodes=n_episodes, render_each=render_each, fps=fps)\n",
    "        rewards_by_hyperparameters[str(hyperparameters)] = rewards\n",
    "\n",
    "        # Calculate the mean reward over the last episodes\n",
    "        mean_reward = np.mean(rewards[-100:])\n",
    "        print(f\"Mean reward over the last 100 episodes: {mean_reward}\")\n",
    "\n",
    "        # Check if it's the best set of hyperparameters so far\n",
    "        if mean_reward > best_mean_reward:\n",
    "            best_mean_reward = mean_reward\n",
    "            best_hyperparameters = hyperparameters\n",
    "\n",
    "    print(\"Grid search complete.\")\n",
    "    print(\"Best Hyperparameters:\")\n",
    "    print(best_hyperparameters)\n",
    "\n",
    "    return best_hyperparameters, rewards_by_hyperparameters\n",
    "\n",
    "\n",
    "if __name__ == \"__main__\":\n",
    "    # Define the hyperparameter grid with the range of values to search through\n",
    "    hyperparameter_grid = [\n",
    "        {\"epsilon\": 0.2, \"epsilon_decay\": 0.8, \"gamma\": 0.7, \"lr\": 0.1},\n",
    "        {\"epsilon\": 0.4, \"epsilon_decay\": 0.9, \"gamma\": 0.8, \"lr\": 0.3},\n",
    "        {\"epsilon\": 0.6, \"epsilon_decay\": 0.95, \"gamma\": 0.9, \"lr\": 0.5},\n",
    "        {\"epsilon\": 0.8, \"epsilon_decay\": 0.95, \"gamma\": 0.9, \"lr\": 0.7}\n",
    "    ]\n",
    "\n",
    "    # Create the environment\n",
    "    env = Environment(curve, xaxis)\n",
    "\n",
    "    # Perform grid search hyperparameter tuning\n",
    "    best_hyperparameters, rewards_by_hyperparameters = grid_search_hyperparameters(env, hyperparameter_grid)\n",
    "\n",
    "    # Train the final agent with the best hyperparameters\n",
    "    agent = DeliveryQAgent(env,states_size=env.observation_space, actions_size=env.action_space, \n",
    "                           epsilon=best_hyperparameters['epsilon'],\n",
    "                           epsilon_decay=best_hyperparameters['epsilon_decay'],\n",
    "                           gamma=best_hyperparameters['gamma'],\n",
    "                           lr=best_hyperparameters['lr'])\n",
    "    p, q, r = run_n_episodes(env, agent, n_episodes=1000, render_each=10, fps=10)\n"
   ]
  },
  {
   "cell_type": "code",
   "execution_count": null,
   "id": "9084d9e3",
   "metadata": {},
   "outputs": [],
   "source": []
  }
 ],
 "metadata": {
  "kernelspec": {
   "display_name": "Python 3 (ipykernel)",
   "language": "python",
   "name": "python3"
  },
  "language_info": {
   "codemirror_mode": {
    "name": "ipython",
    "version": 3
   },
   "file_extension": ".py",
   "mimetype": "text/x-python",
   "name": "python",
   "nbconvert_exporter": "python",
   "pygments_lexer": "ipython3",
   "version": "3.9.7"
  }
 },
 "nbformat": 4,
 "nbformat_minor": 5
}
